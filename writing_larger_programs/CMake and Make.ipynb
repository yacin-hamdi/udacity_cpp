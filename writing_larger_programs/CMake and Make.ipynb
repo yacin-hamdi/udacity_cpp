{
 "cells": [
  {
   "cell_type": "markdown",
   "metadata": {
    "graffitiCellId": "id_4uzm6v6"
   },
   "source": [
    "## Object Files\n",
    "\n",
    "So far in this course, we have refered to running `g++` as \"compiling\".\n",
    "\n",
    "However, `g++` performs several distinct tasks:\n",
    "1. The preprocessor runs and executes any statement beginning with a hash symbol: `#`. This takes care of any `#include` statements, for example, so that all code is in place and ready to compile.\n",
    "2. Each file in the source code is compiled into an \"object file\" (a `.o` file). Object files are platform-specific machine code that will be used to create an executable.\n",
    "3. The object files  are \"linked\" together to make a single executable. In the examples you have seen so far, this executable is `a.out`, but you can specify whatever name you want.\n",
    "\n",
    "It is possible to have `g++` perform each of the steps separately by using the `-c` flag. For example,\n",
    "```bash\n",
    "g++ -c main.cpp\n",
    "```\n",
    "will produce a `main.o` file, and that file can be converted to an executable with\n",
    "```bash\n",
    "g++ main.o\n",
    "```\n",
    "\n",
    "### Your Turn!\n",
    "Try these commands in the terminal below:\n",
    "1. Save the file. The button will save the file as `main.cpp`\n",
    "2. Compile to an object file using the `-c` flag. You can list the files in the directory with `ls`. After compiling, you should see a `main.o` somewhere in the directory (along with all the notebook files).\n",
    "3. Convert the file to an executable with `g++`.\n",
    "4. Run the executable with `./a.out`."
   ]
  },
  {
   "cell_type": "code",
   "execution_count": null,
   "metadata": {
    "graffitiCellId": "id_oyyfbne",
    "graffitiConfig": {
     "executeCellViaGraffiti": "epie0ci_pvr4cb0"
    }
   },
   "outputs": [],
   "source": [
    "#include <iostream>\n",
    "using std::cout;\n",
    "\n",
    "int main() \n",
    "{\n",
    "    cout << \"Hello!\" << \"\\n\";\n",
    "}"
   ]
  },
  {
   "cell_type": "markdown",
   "metadata": {
    "graffitiCellId": "id_epie0ci"
   },
   "source": [
    "<span class=\"graffiti-highlight graffiti-id_epie0ci-id_pvr4cb0\"><i></i><button>Save File</button></span> &nbsp; <span class=\"graffiti-highlight graffiti-id_v49lqju-id_ok6vrwh\"><i></i><button>Show Solution</button></span>"
   ]
  },
  {
   "cell_type": "markdown",
   "metadata": {
    "graffitiCellId": "id_nncug72",
    "graffitiConfig": {
     "rows": 12,
     "terminalId": "id_x414kyv",
     "type": "terminal"
    }
   },
   "source": [
    "<i>Loading terminal (id_nncug72), please wait...</i>"
   ]
  },
  {
   "cell_type": "markdown",
   "metadata": {
    "graffitiCellId": "id_avb2ciy"
   },
   "source": [
    "## Compiling One File of Many\n",
    "\n",
    "In the example above, you compiled a single source code file to an object file. That object file was then converted into an executable. If you wanted to do this with many source code files, and your directory only contained the files for your project, your bash commands might look like the following:\n",
    "```bash\n",
    "root@abc123defg:/home/workspace# g++ -c *.cpp\n",
    "root@abc123defg:/home/workspace# g++ *.o\n",
    "root@abc123defg:/home/workspace# ./a.out\n",
    "```\n",
    "Here, the `*` operator is a wildcard, so any matching file is selected. \n",
    "\n",
    "But what if you make changes to the code? In that case, you can compile only that file, and use the existing object files from the other source files for linking. For example, if you only changed `file_3.cpp` in your code, and all other object files were already created, you could run:\n",
    "```bash\n",
    "root@abc123defg:/home/workspace# g++ -c file_3.cpp\n",
    "root@abc123defg:/home/workspace# g++ *.o\n",
    "root@abc123defg:/home/workspace# ./a.out\n",
    "```\n",
    "\n",
    "As mentioned previously, this works great for small programs, where all the files are easy to find, and you can remember which ones you have modified. For larger projects, it is helpful to use a build system which can compile the right files for you and take care of linking."
   ]
  },
  {
   "cell_type": "markdown",
   "metadata": {
    "graffitiCellId": "id_aj100t6"
   },
   "source": [
    "## CMake and Make\n",
    "\n",
    "CMake is an open-source, platform-independent build system. CMake uses text documents, labeled as `CMakeLists.txt` files, to manage platform-specific build environments, like [make](https://en.wikipedia.org/wiki/Make_(software)). Unfortunately, an in-depth tutorial on CMake is beyond the scope of this course, but we can discuss the basics of how CMake works, so you will be ready to use it in your project.\n",
    "\n",
    "### CMakeLists.txt\n",
    "\n",
    "`CMakeList.txt` files have a hierarchical structure, and one `CMakeList.txt` file can be included in each directory of the project. These files can be used to specify the locations of necessary packages, set build flags and environment variables, specify build target names and locations, and other actions.\n",
    "\n",
    "### CMake Project\n",
    "\n",
    "A typical CMake project will have a top-level `CMakeLists.txt` and a `build` directory. From within the build directory, you could run\n",
    "```bash\n",
    "root@abc123defg:/my_project/build# cmake ..\n",
    "root@abc123defg:/my_project/build# make\n",
    "```\n",
    "The first line directs the `cmake` command at the top-level `CMakeLists.txt` file with `..`. This command uses the top-level `CMakeLists.txt` to configure the project and create a [`Makefile`](https://en.wikipedia.org/wiki/Makefile). In the second line, `make` finds the `Makefile` and uses the instructions in the `Makefile` to build the project.\n",
    "\n",
    "In general, `CMake` only needs to be run once for a project, unless you are changing build options (e.g. using different build flags). `Make` will be able to keep track of which files have changed and compile only those that need to be before building."
   ]
  }
 ],
 "metadata": {
  "graffiti": {
   "firstAuthorId": "813558546",
   "id": "id_6s7w9lf",
   "language": "EN"
  },
  "kernelspec": {
   "display_name": "Python 3 (ipykernel)",
   "language": "python",
   "name": "python3"
  },
  "language_info": {
   "codemirror_mode": {
    "name": "ipython",
    "version": 3
   },
   "file_extension": ".py",
   "mimetype": "text/x-python",
   "name": "python",
   "nbconvert_exporter": "python",
   "pygments_lexer": "ipython3",
   "version": "3.7.3"
  }
 },
 "nbformat": 4,
 "nbformat_minor": 4
}
