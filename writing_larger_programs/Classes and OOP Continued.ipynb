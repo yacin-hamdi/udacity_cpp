{
 "cells": [
  {
   "cell_type": "markdown",
   "metadata": {
    "graffitiCellId": "id_00pxxb7"
   },
   "source": [
    "## Putting the Class Definitions into Separate Files\n",
    "\n",
    "In the previous concept, you saw how to create a `Car` classs and use a constructor. At the end of that concept, your code looked like this:\n",
    "```cpp\n",
    "#include <iostream>\n",
    "#include <string>\n",
    "using std::string;\n",
    "using std::cout;\n",
    "\n",
    "class Car {\n",
    "  public:\n",
    "    void PrintCarData() \n",
    "    {\n",
    "        cout << \"The distance that the \" << color << \" car \" << number << \" has traveled is: \" << distance << \"\\n\";\n",
    "    }\n",
    "\n",
    "    void IncrementDistance() \n",
    "    {\n",
    "        distance++;\n",
    "    }\n",
    "    \n",
    "    // Adding a constructor here:\n",
    "    Car(string c, int n) \n",
    "    {\n",
    "        // Setting the class attributes with\n",
    "        // The values passed into the constructor.\n",
    "        color = c;\n",
    "        number = n;\n",
    "    }\n",
    "    \n",
    "    string color;\n",
    "    int distance = 0;\n",
    "    int number;\n",
    "};\n",
    "\n",
    "int main() \n",
    "{\n",
    "    // Create class instances for each car.\n",
    "    Car car_1 = Car(\"green\", 1);\n",
    "    Car car_2 = Car(\"red\", 2);\n",
    "    Car car_3 = Car(\"blue\", 3);\n",
    "\n",
    "    // Increment car_1's position by 1.\n",
    "    car_1.IncrementDistance();\n",
    "\n",
    "    // Print out the position and color of each car.\n",
    "    car_1.PrintCarData();\n",
    "    car_2.PrintCarData();\n",
    "    car_3.PrintCarData();\n",
    "\n",
    "}\n",
    "```\n",
    "\n",
    "If you were planning to build a larger program, at this point it might be good to put your class definition and function declarations into a separate file. Just as when we discussed header files before, putting the class definition into a separate header helps to organize your code, and prevents problems with trying to use class objects before the class is defined.\n",
    "\n",
    "There are two things to note in the code below. \n",
    "\n",
    "1. When the class methods are defined outside the class, the _scope resolution operator_ `::` must be used to indicate which class the method belongs to. For example, in the definition of the `PrintCarData` method you see:\n",
    "  \n",
    "  ```cpp\n",
    "  void Car::PrintCarData()\n",
    "  ```\n",
    "  This prevents any compiler issues if there are are two classes with methods that have the same name.\n",
    "\n",
    "\n",
    "2. We have changed how the constructor initializes the variables. Instead of the previous constructor:\n",
    "  ```cpp\n",
    "  Car(string c, int n) {\n",
    "      color = c; \n",
    "      number = n;\n",
    "  }\n",
    "  ```\n",
    "  the constructor now uses an [_initializer list_](https://en.cppreference.com/w/cpp/language/initializer_list):\n",
    "  ```cpp\n",
    "  Car(string c, int n) : color(c), number(n) {}\n",
    "  ```\n",
    "  Here, the class members are initialized before the body of the constructor (which is now empty). Initializer lists are a quick way to initialize many class attributes in the constructor. Additionally, the compiler treats attributes initialized in the list slightly differently than if they are initialized in the constructor body. For reasons beyond the scope of this course, if a class attribute is a reference, it must be initialized using an initializer list.\n",
    "  \n",
    "3. Variables that don't need to be visible outside of the class are set as `private`. This means that they can not be accessed outside of the class, which [prevents them from being accidentally changed](https://github.com/isocpp/CppCoreGuidelines/blob/master/CppCoreGuidelines.md#Rc-private).\n",
    "\n",
    "Check out the cells below to see this code in practice. In this code, we have separated the class into declarations and definitions, with declarations being in the `.h` file and definitions being in `.cpp`. Note that only the `.h` file needs to be included in any other file where the definitions are used.\n",
    "\n",
    "\n",
    "### car.h and car.cpp"
   ]
  },
  {
   "cell_type": "code",
   "execution_count": null,
   "metadata": {
    "graffitiCellId": "id_0jlin53"
   },
   "outputs": [],
   "source": [
    "#ifndef CAR_H\n",
    "#define CAR_H\n",
    "\n",
    "#include <string>\n",
    "using std::string;\n",
    "using std::cout;\n",
    "\n",
    "class Car {\n",
    "  public:\n",
    "    void PrintCarData();\n",
    "    void IncrementDistance();\n",
    "    \n",
    "    // Using a constructor list in the constructor:\n",
    "    Car(string c, int n) : color(c), number(n) {}\n",
    "  \n",
    "  // The variables do not need to be accessed outside of\n",
    "  // functions from this class, so we can set them to private.\n",
    "  private:\n",
    "    string color;\n",
    "    int distance = 0;\n",
    "    int number;\n",
    "};\n",
    "\n",
    "#endif"
   ]
  },
  {
   "cell_type": "code",
   "execution_count": null,
   "metadata": {
    "graffitiCellId": "id_h24tzff"
   },
   "outputs": [],
   "source": [
    "#include <iostream>\n",
    "#include \"car.h\"\n",
    "\n",
    "// Method definitions for the Car class.\n",
    "void Car::PrintCarData() \n",
    "{\n",
    "    cout << \"The distance that the \" << color << \" car \" << number << \" has traveled is: \" << distance << \"\\n\";\n",
    "}\n",
    "\n",
    "void Car::IncrementDistance() \n",
    "{\n",
    "    distance++;\n",
    "}"
   ]
  },
  {
   "cell_type": "markdown",
   "metadata": {
    "graffitiCellId": "id_8xn9do8"
   },
   "source": [
    "### car_main.cpp"
   ]
  },
  {
   "cell_type": "code",
   "execution_count": null,
   "metadata": {
    "graffitiCellId": "id_v9eags8",
    "graffitiConfig": {
     "executeCellViaGraffiti": "obyz8ep_y01dnxl"
    }
   },
   "outputs": [],
   "source": [
    "#include <iostream>\n",
    "#include <string>\n",
    "#include \"car.h\"\n",
    "using std::string;\n",
    "using std::cout;\n",
    "\n",
    "int main() \n",
    "{\n",
    "    // Create class instances for each car.\n",
    "    Car car_1 = Car(\"green\", 1);\n",
    "    Car car_2 = Car(\"red\", 2);\n",
    "    Car car_3 = Car(\"blue\", 3);\n",
    "\n",
    "    // Increment car_1's position by 1.\n",
    "    car_1.IncrementDistance();\n",
    "\n",
    "    // Print out the position and color of each car.\n",
    "    car_1.PrintCarData();\n",
    "    car_2.PrintCarData();\n",
    "    car_3.PrintCarData();\n",
    "\n",
    "}"
   ]
  },
  {
   "cell_type": "markdown",
   "metadata": {
    "graffitiCellId": "id_obyz8ep"
   },
   "source": [
    "<span class=\"graffiti-highlight graffiti-id_obyz8ep-id_y01dnxl\"><i></i><button>Compile & Execute</button></span> &nbsp; <span class=\"graffiti-highlight graffiti-id_x5nq039-id_s00geyk\"><i></i><button>Explain</button></span>"
   ]
  },
  {
   "cell_type": "markdown",
   "metadata": {
    "graffitiCellId": "id_2ry0tt5",
    "graffitiConfig": {
     "rows": 6,
     "terminalId": "id_9co4lok",
     "type": "terminal"
    }
   },
   "source": [
    "<i>Loading terminal (id_2ry0tt5), please wait...</i>"
   ]
  },
  {
   "cell_type": "markdown",
   "metadata": {
    "graffitiCellId": "id_m1al28u"
   },
   "source": [
    "## Scaling Up\n",
    "\n",
    "In this concept and the previous one, you took code without classes and converted it into an object-oriented format.\n",
    "\n",
    "In case you aren't convinced that organizing the code using OOP saved you some trouble, the next cell redefines `main.cpp` to generate 100 cars with different colors, move each, and print data about each. This would have been extremely difficult to do if you had to manually create new variables for each car! \n",
    "\n",
    "There is a lot going on in the code to unpack, including the `new` keyword and the `->` operator. The arrow operator `->` is used to simultaneously \n",
    "- dereference a pointer to an object and \n",
    "- access an attribute or method. \n",
    "\n",
    "For example, in the code below, `cp` is a pointer to a Car object, and the following two are equivalent:\n",
    "\n",
    "```cpp\n",
    "// Simultaneously dereference the pointer and \n",
    "// access IncrementDistance().\n",
    "cp->IncrementDistance();\n",
    "\n",
    "// Dereference the pointer using *, then \n",
    "// access IncrementDistance() with traditional \n",
    "// dot notation.\n",
    "(*cp).IncrementDistance();\n",
    "```\n",
    "\n",
    "The `new` operator allocates memory on the \"heap\" for a new Car. In general, this memory must be manually managed (deallocated) to avoid memory leaks in your program. This is dangerous, so it is generally preferable to create objects on the \"stack\", without using the \"new\" operator. Memory management is beyond the scope of this course, and you won't need to worry too much about it here.\n",
    "\n",
    "Click on the explanation button for a discussion of the code. \n",
    "\n",
    "**Note:** This `main.cpp` uses the class files defined above, so be sure you have run the previous example before running this one. "
   ]
  },
  {
   "cell_type": "code",
   "execution_count": null,
   "metadata": {
    "graffitiCellId": "id_9pbpjyf",
    "graffitiConfig": {
     "executeCellViaGraffiti": "id_p3buov2"
    }
   },
   "outputs": [],
   "source": [
    "#include <iostream>\n",
    "#include <string>\n",
    "#include <vector>\n",
    "#include \"car.h\"\n",
    "using std::string;\n",
    "using std::cout;\n",
    "using std::vector;\n",
    "\n",
    "int main() {\n",
    "    // Create an empty vector of pointers to Cars \n",
    "    // and a null pointer to a car.\n",
    "    vector<Car*> car_vect;\n",
    "    Car* cp = nullptr;\n",
    "    \n",
    "    // The vector of colors for the cars:\n",
    "    vector<string> colors {\"red\", \"blue\", \"green\"};\n",
    "\n",
    "    // Create 100 cars with different colors and \n",
    "    // push pointers to each of those cars into the vector.\n",
    "    for (int i = 0; i < 100; i++) {;\n",
    "        cp = new Car(colors[i % 3], i + 1);\n",
    "        car_vect.push_back(cp);\n",
    "    }\n",
    "\n",
    "    // Move each car forward by 1.\n",
    "    for (Car* cp: car_vect) {\n",
    "        cp->IncrementDistance();\n",
    "    }\n",
    "\n",
    "    // Print data about each car.\n",
    "    for (Car* cp: car_vect) {\n",
    "        cp->PrintCarData();\n",
    "    }\n",
    "    \n",
    "}"
   ]
  },
  {
   "cell_type": "markdown",
   "metadata": {
    "graffitiCellId": "id_p3buov2"
   },
   "source": [
    "<span class=\"graffiti-highlight graffiti-id_p3buov2-id_l9e5oi8\"><i></i><button>Compile & Execute</button></span> &nbsp; <span class=\"graffiti-highlight graffiti-id_672vpq7-id_71hxlxm\"><i></i><button>Explain</button></span>"
   ]
  },
  {
   "cell_type": "markdown",
   "metadata": {
    "graffitiCellId": "id_y7nkua3",
    "graffitiConfig": {
     "rows": 6,
     "terminalId": "id_y128n2d",
     "type": "terminal"
    }
   },
   "source": [
    "<i>Loading terminal (id_y7nkua3), please wait...</i>"
   ]
  }
 ],
 "metadata": {
  "graffiti": {
   "firstAuthorId": "813558546",
   "id": "id_9ceo9do",
   "language": "EN"
  },
  "kernelspec": {
   "display_name": "C++17",
   "language": "C++17",
   "name": "xeus-cling-cpp17"
  },
  "language_info": {
   "codemirror_mode": "text/x-c++src",
   "file_extension": ".cpp",
   "mimetype": "text/x-c++src",
   "name": "c++",
   "version": "-std=c++17"
  }
 },
 "nbformat": 4,
 "nbformat_minor": 4
}
