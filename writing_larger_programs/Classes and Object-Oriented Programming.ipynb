{
 "cells": [
  {
   "cell_type": "markdown",
   "metadata": {
    "graffitiCellId": "id_joftlv7"
   },
   "source": [
    "## Code without Objects\n",
    "\n",
    "Suppose you were writing a program to model several cars. In your program, you want to keep track of each car's color and the distance the car has traveled, and you want to be able to increment this distance and print out the car's properties. You could write something like the code below to accomplish this: "
   ]
  },
  {
   "cell_type": "code",
   "execution_count": null,
   "metadata": {
    "graffitiCellId": "id_7cbs24z",
    "graffitiConfig": {
     "executeCellViaGraffiti": "vmcybyn_tj2haa7"
    }
   },
   "outputs": [],
   "source": [
    "#include <iostream>\n",
    "#include <string>\n",
    "using std::string;\n",
    "using std::cout;\n",
    "\n",
    "int main() \n",
    "{\n",
    "    // Variables to hold each car's color.\n",
    "    string car_1_color = \"green\";\n",
    "    string car_2_color = \"red\";\n",
    "    string car_3_color = \"blue\";\n",
    "\n",
    "    // Variables to hold each car's initial position.\n",
    "    int car_1_distance = 0;\n",
    "    int car_2_distance = 0;\n",
    "    int car_3_distance = 0;\n",
    "\n",
    "    // Increment car_1's position by 1.\n",
    "    car_1_distance++;\n",
    "\n",
    "    // Print out the position and color of each car.\n",
    "    cout << \"The distance that the \" << car_1_color << \" car 1 has traveled is: \" << car_1_distance << \"\\n\";\n",
    "    cout << \"The distance that the \" << car_2_color << \" car 2 has traveled is: \" << car_2_distance << \"\\n\";\n",
    "    cout << \"The distance that the \" << car_3_color << \" car 3 has traveled is: \" << car_3_distance << \"\\n\";\n",
    "\n",
    "}"
   ]
  },
  {
   "cell_type": "markdown",
   "metadata": {
    "graffitiCellId": "id_vmcybyn"
   },
   "source": [
    "<span class=\"graffiti-highlight graffiti-id_vmcybyn-id_tj2haa7\"><i></i><button>Compile & Execute</button></span>\n",
    "<span class=\"graffiti-highlight graffiti-id_5tut8lx-id_vg0qxmv\"><i></i><button>Explain</button></span>"
   ]
  },
  {
   "cell_type": "markdown",
   "metadata": {
    "graffitiCellId": "id_8cijeu2",
    "graffitiConfig": {
     "rows": 6,
     "terminalId": "id_nkna887",
     "type": "terminal"
    }
   },
   "source": [
    "<i>Loading terminal (id_8cijeu2), please wait...</i>"
   ]
  },
  {
   "cell_type": "markdown",
   "metadata": {
    "graffitiCellId": "id_w8xkqts"
   },
   "source": [
    "This works for the few cars that are defined in the program, but if you wanted the program to keep track of _many_ cars this would be cumbersome. You would need to create a new variables for every car, and the code would quickly become cluttered. One way to fix this would be to define a `Car` class with those variables as attributes, along with a few class methods to increment the distance traveled and print out car data."
   ]
  },
  {
   "cell_type": "markdown",
   "metadata": {
    "graffitiCellId": "id_qgadqxy"
   },
   "source": [
    "## Code with Objects\n",
    "\n",
    "In the next cell, the code above has been rewritten with a `Car` class."
   ]
  },
  {
   "cell_type": "code",
   "execution_count": null,
   "metadata": {
    "graffitiCellId": "id_lnrqfon",
    "graffitiConfig": {
     "executeCellViaGraffiti": "fvoonx8_jodq5ou"
    }
   },
   "outputs": [],
   "source": [
    "#include <iostream>\n",
    "#include <string>\n",
    "using std::string;\n",
    "using std::cout;\n",
    "\n",
    "// The Car class\n",
    "class Car {\n",
    "  public:\n",
    "    // Method to print data.\n",
    "    void PrintCarData() \n",
    "    {\n",
    "        cout << \"The distance that the \" << color << \" car \" << number << \" has traveled is: \" << distance << \"\\n\";\n",
    "    }\n",
    "    \n",
    "    // Method to increment the distance travelled.\n",
    "    void IncrementDistance() \n",
    "    {\n",
    "        distance++;\n",
    "    }\n",
    "    \n",
    "    // Class/object attributes\n",
    "    string color;\n",
    "    int distance = 0;\n",
    "    int number;\n",
    "};\n",
    "\n",
    "int main() \n",
    "{\n",
    "    // Create class instances for each car.\n",
    "    Car car_1, car_2, car_3;\n",
    "\n",
    "    // Set each instance's color.\n",
    "    car_1.color = \"green\";\n",
    "    car_2.color = \"red\";\n",
    "    car_3.color = \"blue\";\n",
    "\n",
    "    // Set each instance's number.\n",
    "    car_1.number = 1;\n",
    "    car_2.number = 2;\n",
    "    car_3.number = 3;\n",
    "\n",
    "    // Increment car_1's position by 1.\n",
    "    car_1.IncrementDistance();\n",
    "\n",
    "    // Print out the position and color of each car.\n",
    "    car_1.PrintCarData();\n",
    "    car_2.PrintCarData();\n",
    "    car_3.PrintCarData();\n",
    "\n",
    "}"
   ]
  },
  {
   "cell_type": "markdown",
   "metadata": {
    "graffitiCellId": "id_fvoonx8"
   },
   "source": [
    "<span class=\"graffiti-highlight graffiti-id_fvoonx8-id_jodq5ou\"><i></i><button>Compile & Execute</button></span> &nbsp; <span class=\"graffiti-highlight graffiti-id_w1rjpfp-id_hvoqbln\"><i></i><button>See Explanation</button></span>"
   ]
  },
  {
   "cell_type": "markdown",
   "metadata": {
    "graffitiCellId": "id_0btk71p",
    "graffitiConfig": {
     "rows": 6,
     "terminalId": "id_0btk71p",
     "type": "terminal"
    }
   },
   "source": [
    "<i>Loading terminal (id_0btk71p), please wait...</i>"
   ]
  },
  {
   "cell_type": "markdown",
   "metadata": {
    "graffitiCellId": "id_74gfu3x"
   },
   "source": [
    "This looks ok, and you have reduced the number of variables in `main`, so you might see how this could be more organized going forward. However, there is now a lot more code than you started with, and the `main` doesn't seem much more organzied. The code above still sets the attributes for each car after the car has been created.\n",
    "\n",
    "### Adding a Constructor\n",
    "\n",
    "The best way to fix this is to add a _constructor_ to the `Car`  class. The constructor allows you to instantiate new objects with the data that you want. In the next code cell, we have added a constructor for `Car` that allows the `number` and `color` to be passed in. This means that each `Car` object can be created with those variables."
   ]
  },
  {
   "cell_type": "code",
   "execution_count": null,
   "metadata": {
    "graffitiCellId": "id_sq4030y",
    "graffitiConfig": {
     "executeCellViaGraffiti": "j4zxcn7_qhlgzj4"
    }
   },
   "outputs": [],
   "source": [
    "#include <iostream>\n",
    "#include <string>\n",
    "using std::string;\n",
    "using std::cout;\n",
    "\n",
    "class Car {\n",
    "  public:\n",
    "    void PrintCarData() \n",
    "    {\n",
    "        cout << \"The distance that the \" << color << \" car \" << number << \" has traveled is: \" << distance << \"\\n\";\n",
    "    }\n",
    "\n",
    "    void IncrementDistance() \n",
    "    {\n",
    "        distance++;\n",
    "    }\n",
    "    \n",
    "    // Adding a constructor here:\n",
    "    Car(string c, int n) \n",
    "    {\n",
    "        // Setting the class attributes with\n",
    "        // The values passed into the constructor.\n",
    "        color = c;\n",
    "        number = n;\n",
    "    }\n",
    "    \n",
    "    string color;\n",
    "    int distance = 0;\n",
    "    int number;\n",
    "};\n",
    "\n",
    "int main() \n",
    "{\n",
    "    // Create class instances for each car.\n",
    "    Car car_1 = Car(\"green\", 1);\n",
    "    Car car_2 = Car(\"red\", 2);\n",
    "    Car car_3 = Car(\"blue\", 3);\n",
    "\n",
    "    // Increment car_1's position by 1.\n",
    "    car_1.IncrementDistance();\n",
    "\n",
    "    // Print out the position and color of each car.\n",
    "    car_1.PrintCarData();\n",
    "    car_2.PrintCarData();\n",
    "    car_3.PrintCarData();\n",
    "}"
   ]
  },
  {
   "cell_type": "markdown",
   "metadata": {
    "graffitiCellId": "id_j4zxcn7"
   },
   "source": [
    "<span class=\"graffiti-highlight graffiti-id_j4zxcn7-id_qhlgzj4\"><i></i><button>Compile & Execute</button></span> &nbsp; <span class=\"graffiti-highlight graffiti-id_5kon3zs-id_5ehsk4q\"><i></i><button>Explain</button></span>"
   ]
  },
  {
   "cell_type": "markdown",
   "metadata": {
    "graffitiCellId": "id_xvhh213",
    "graffitiConfig": {
     "rows": 6,
     "terminalId": "id_xvhh213",
     "type": "terminal"
    }
   },
   "source": [
    "<i>Loading terminal (id_xvhh213), please wait...</i>"
   ]
  },
  {
   "cell_type": "markdown",
   "metadata": {
    "graffitiCellId": "id_00pxxb7"
   },
   "source": [
    "This is now beginning to look better. The `main` is more organized than when we first started, although there is a little more code overall to accomodate the class definition. At this point, you might want to separate your class definition into it's own `.h` and `.cpp` files. We'll do that in the next concept!"
   ]
  }
 ],
 "metadata": {
  "graffiti": {
   "firstAuthorId": "813558546",
   "id": "id_9ceo9do",
   "language": "EN"
  },
  "kernelspec": {
   "display_name": "C++17",
   "language": "C++17",
   "name": "xeus-cling-cpp17"
  },
  "language_info": {
   "codemirror_mode": "text/x-c++src",
   "file_extension": ".cpp",
   "mimetype": "text/x-c++src",
   "name": "c++",
   "version": "-std=c++17"
  }
 },
 "nbformat": 4,
 "nbformat_minor": 2
}
