{
 "cells": [
  {
   "cell_type": "markdown",
   "metadata": {
    "graffitiCellId": "id_fjxs0j8"
   },
   "source": [
    "## Pointers to Other Object Types\n",
    "\n",
    "Although the type of object being pointed to must be included in a pointer declaration, pointers hold the same kind of value for every type of object: just a memory address to where the object is stored. In the following code, a vector is declared. Write your own code to create a pointer to the address of that vector. Then, dereference your pointer and print the value of the first item in the vector."
   ]
  },
  {
   "cell_type": "code",
   "execution_count": null,
   "metadata": {
    "graffitiCellId": "id_e6hefyy",
    "graffitiConfig": {
     "executeCellViaGraffiti": "319d11b_6cnfxb6"
    }
   },
   "outputs": [],
   "source": [
    "#include <iostream>\n",
    "#include <vector>\n",
    "using std::cout;\n",
    "using std::vector;\n",
    "\n",
    "int main() {\n",
    "    // Vector v is declared and initialized to {1, 2, 3}\n",
    "    vector<int> v {1, 2, 3};\n",
    "    \n",
    "    // Declare and initialize a pointer to the address of v here:\n",
    "    vector<int> *pointer_to_v = &v;\n",
    "\n",
    "    // The following loops over each int a in the vector v and prints.\n",
    "    // Note that this uses a \"range-based\" for loop:\n",
    "    // https://github.com/isocpp/CppCoreGuidelines/blob/master/CppCoreGuidelines.md#Res-for-range\n",
    "    for (int a: v) {\n",
    "        cout << a << \"\\n\";\n",
    "    }\n",
    "    \n",
    "    // Dereference your pointer to v and print the int at index 0 here (note: you should print 1):\n",
    "    cout << \"The first element of v is:  \"  << (*pointer_to_v)[0] << \"\\n\";\n",
    "\n",
    "}"
   ]
  },
  {
   "cell_type": "markdown",
   "metadata": {
    "graffitiCellId": "id_319d11b"
   },
   "source": [
    "<span class=\"graffiti-highlight graffiti-id_319d11b-id_6cnfxb6\"><i></i><button>Compile & Execute</button></span> &nbsp; <span class=\"graffiti-highlight graffiti-id_f709kp1-id_ltel3pu\"><i></i><button>See Solution</button></span>"
   ]
  },
  {
   "cell_type": "markdown",
   "metadata": {
    "graffitiCellId": "id_fr9qte8",
    "graffitiConfig": {
     "rows": 6,
     "terminalId": "id_fr9qte8",
     "type": "terminal"
    }
   },
   "source": [
    "<i>Loading terminal (id_fr9qte8), please wait...</i>"
   ]
  },
  {
   "cell_type": "markdown",
   "metadata": {
    "graffitiCellId": "id_011lvmp"
   },
   "source": [
    "Hint: If you've created a pointer to `v`, say `pv`, you can retrieve `v` with `(*pv)`.\n",
    "\n",
    "## Passing Pointers to a Function\n",
    "\n",
    "Pointers can be used in another form of pass-by-reference when working with functions. When used in this context, they work much like the references that you used for pass-by reference previously. If the pointer is pointing to a large object, it can be much more efficient to pass the pointer to a function than to pass a copy of the object as with pass-by-value.\n",
    "\n",
    "In the following code, a pointer to an int is created, and that pointer is passed to a function. The object pointed to is then modified in the function."
   ]
  },
  {
   "cell_type": "code",
   "execution_count": null,
   "metadata": {
    "graffitiCellId": "id_gchj01b",
    "graffitiConfig": {
     "executeCellViaGraffiti": "gbr1alm_tjl2yw0"
    }
   },
   "outputs": [],
   "source": [
    "#include <iostream>\n",
    "using std::cout;\n",
    "\n",
    "void AddOne(int* j)\n",
    "{\n",
    "    // Dereference the pointer and increment the int being pointed to.\n",
    "    (*j)++;\n",
    "}\n",
    "\n",
    "int main() \n",
    "{\n",
    "    int i = 1;\n",
    "    cout << \"The value of i is: \" << i << \"\\n\";\n",
    "    \n",
    "    // Declare a pointer to i:\n",
    "    int* pi = &i;\n",
    "    AddOne(pi);\n",
    "    cout << \"The value of i is now: \" << i << \"\\n\";\n",
    "}"
   ]
  },
  {
   "cell_type": "markdown",
   "metadata": {
    "graffitiCellId": "id_gbr1alm"
   },
   "source": [
    "<span class=\"graffiti-highlight graffiti-id_gbr1alm-id_tjl2yw0\"><i></i><button>Compile & Execute</button></span> &nbsp; <span class=\"graffiti-highlight graffiti-id_gbr1alm-id_u91bpg4\"><i></i><button>Explain</button></span>"
   ]
  },
  {
   "cell_type": "markdown",
   "metadata": {
    "graffitiCellId": "id_699poaf",
    "graffitiConfig": {
     "rows": 6,
     "terminalId": "id_699poaf",
     "type": "terminal"
    }
   },
   "source": [
    "<i>Loading terminal (id_699poaf), please wait...</i>"
   ]
  },
  {
   "cell_type": "markdown",
   "metadata": {
    "graffitiCellId": "id_n07h230"
   },
   "source": [
    "When using pointers with functions, some care should be taken. If a pointer is passed to a function and then assigned to a variable in the function that goes out of scope after the function finishes executing, then the pointer will have undefined behavior at that point - the memory it is pointing to might be overwritten by other parts of the program."
   ]
  },
  {
   "cell_type": "markdown",
   "metadata": {
    "graffitiCellId": "id_h83uq5h"
   },
   "source": [
    "## Returning a Pointer from a Function\n",
    "\n",
    "You can also return a pointer from a function. As mentioned just above, if you do this, you must be careful that the object being pointed to doesn't go out of scope when the function finishes executing. If the object goes out of scope, the memory address being pointed to might then be used for something else.\n",
    "\n",
    "In the example below, a reference is passed into a function and a pointer is returned. This is safe since the pointer being returned points to a reference - a variable that exists outside of the function and will not go out of scope in the function."
   ]
  },
  {
   "cell_type": "code",
   "execution_count": null,
   "metadata": {
    "graffitiCellId": "id_tjh2m8z",
    "graffitiConfig": {
     "executeCellViaGraffiti": "3q19eh4_cklt1kl"
    }
   },
   "outputs": [],
   "source": [
    "#include <iostream>\n",
    "using std::cout;\n",
    "\n",
    "int* AddOne(int& j) \n",
    "{\n",
    "    // Increment the referenced int and return the\n",
    "    // address of j.\n",
    "    j++;\n",
    "    return &j;\n",
    "}\n",
    "\n",
    "int main() \n",
    "{\n",
    "    int i = 1;\n",
    "    cout << \"The value of i is: \" << i << \"\\n\";\n",
    "    \n",
    "    // Declare a pointer and initialize to the value\n",
    "    // returned by AddOne:\n",
    "    int* my_pointer = AddOne(i);\n",
    "    cout << \"The value of i is now: \" << i << \"\\n\";\n",
    "    cout << \"The value of the int pointed to by my_pointer is: \" << *my_pointer << \"\\n\";\n",
    "}"
   ]
  },
  {
   "cell_type": "markdown",
   "metadata": {
    "graffitiCellId": "id_3q19eh4"
   },
   "source": [
    "<span class=\"graffiti-highlight graffiti-id_3q19eh4-id_cklt1kl\"><i></i><button>Compile & Execute</button></span>&nbsp;\n",
    "<span class=\"graffiti-highlight graffiti-id_3q19eh4-id_0oe8o5t\"><i></i><button>Explain</button></span>"
   ]
  },
  {
   "cell_type": "markdown",
   "metadata": {
    "graffitiCellId": "id_05lniic",
    "graffitiConfig": {
     "rows": 6,
     "terminalId": "id_90hl7nb",
     "type": "terminal"
    }
   },
   "source": [
    "<i>Loading terminal (id_05lniic), please wait...</i>"
   ]
  },
  {
   "cell_type": "markdown",
   "metadata": {
    "graffitiCellId": "id_pj8bh6a"
   },
   "source": [
    "## Your turn!\n",
    "\n",
    "Try modifying the code above to get a better sense of how things work. If you are curious, try printing the memory address of `i` in the `main`, and the address of `j` inside the `AddOne` function. Since `j` is a reference to `i`, they should have the address!"
   ]
  }
 ],
 "metadata": {
  "graffiti": {
   "firstAuthorId": "813558546",
   "id": "id_lbbhkgw",
   "language": "EN"
  },
  "kernelspec": {
   "display_name": "C++17",
   "language": "C++17",
   "name": "xeus-cling-cpp17"
  },
  "language_info": {
   "codemirror_mode": "text/x-c++src",
   "file_extension": ".cpp",
   "mimetype": "text/x-c++src",
   "name": "c++",
   "version": "-std=c++17"
  }
 },
 "nbformat": 4,
 "nbformat_minor": 2
}
