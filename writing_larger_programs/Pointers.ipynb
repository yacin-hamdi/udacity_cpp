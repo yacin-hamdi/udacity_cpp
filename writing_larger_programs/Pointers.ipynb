{
 "cells": [
  {
   "cell_type": "markdown",
   "metadata": {
    "graffitiCellId": "id_bu6db5l"
   },
   "source": [
    "## Accessing a Memory Address\n",
    "\n",
    "Each variable in a program stores its contents in the computer's memory, and each chunk of the memory has an address number. For a given variable, the memory address can be accessed using an ampersand in front of the variable. To see an example of this, execute the following code which displays the [hexadecimal](https://en.wikipedia.org/wiki/Hexadecimal) memory addresses of the variables `i` and `j`:"
   ]
  },
  {
   "cell_type": "code",
   "execution_count": null,
   "metadata": {
    "graffitiCellId": "id_y37hur1",
    "graffitiConfig": {
     "executeCellViaGraffiti": "mj8723g_rvcpg55"
    }
   },
   "outputs": [],
   "source": [
    "#include <iostream>\n",
    "using std::cout;\n",
    "\n",
    "int main() {\n",
    "    int i = 5;\n",
    "    int j = 6;\n",
    "    \n",
    "    // Print the memory addresses of i and j\n",
    "    cout << \"The address of i is: \" << &i << \"\\n\";\n",
    "    cout << \"The address of j is: \" << &j << \"\\n\";\n",
    "}"
   ]
  },
  {
   "cell_type": "markdown",
   "metadata": {
    "graffitiCellId": "id_mj8723g"
   },
   "source": [
    "<span class=\"graffiti-highlight graffiti-id_mj8723g-id_rvcpg55\"><i></i><button>Compile & Execute</button></span> &nbsp;\n",
    "<span class=\"graffiti-highlight graffiti-id_omx3gpk-id_ze8e3lh\"><i></i><button>Explain</button></span>"
   ]
  },
  {
   "cell_type": "markdown",
   "metadata": {
    "graffitiCellId": "id_1lhn359",
    "graffitiConfig": {
     "rows": 6,
     "terminalId": "id_mb3tzqi",
     "type": "terminal"
    }
   },
   "source": [
    "<i>Loading terminal (id_1lhn359), please wait...</i>"
   ]
  },
  {
   "cell_type": "markdown",
   "metadata": {
    "graffitiCellId": "id_gruohao"
   },
   "source": [
    "At this point, you might be wondering why the same symbol `&` can be used to both access memory addresses and, as you've seen before, pass references into a function. This is a great thing to wonder about. The overloading of the ampersand symbol `&` and the `*` symbol probably contribute to much of the confusion around pointers.\n",
    "\n",
    "> **The symbols `&` and `*` have a different meaning, depending on which side of an equation they appear.**\n",
    "\n",
    "_This is extremely important to remember._ For the `&` symbol, if it appears on the left side of an equation (e.g. when declaring a variable), it means that the variable is declared as a reference. If the `&` appears on the right side of an equation, or before a previously defined variable, it is used to return a memory address, as in the example above.\n",
    "\n",
    "Try using the cell above to create new variables and print out their addresses! \n",
    "\n",
    "## Storing a Memory Address (int type)\n",
    "\n",
    "Once a memory address is accessed, you can store it using a pointer. A pointer can be declared by using the `*` operator in the declaration. See the following code for an example:"
   ]
  },
  {
   "cell_type": "code",
   "execution_count": null,
   "metadata": {
    "graffitiCellId": "id_00ll0tt",
    "graffitiConfig": {
     "executeCellViaGraffiti": "fuseufk_9g9v3ka"
    }
   },
   "outputs": [],
   "source": [
    "#include <iostream>\n",
    "using std::cout;\n",
    "\n",
    "int main() \n",
    "{\n",
    "    int i = 5;\n",
    "    // A pointer pointer_to_i is declared and initialized to the address of i.\n",
    "    int* pointer_to_i = &i;\n",
    "    \n",
    "    // Print the memory addresses of i and j\n",
    "    cout << \"The address of i is:          \" << &i << \"\\n\";\n",
    "    cout << \"The variable pointer_to_i is: \" << pointer_to_i << \"\\n\";\n",
    "}"
   ]
  },
  {
   "cell_type": "markdown",
   "metadata": {
    "graffitiCellId": "id_fuseufk"
   },
   "source": [
    "<span class=\"graffiti-highlight graffiti-id_fuseufk-id_9g9v3ka\"><i></i><button>Compile & Execute</button></span> &nbsp; <span class=\"graffiti-highlight graffiti-id_qn2zbq0-id_60qo49s\"><i></i><button>Explain</button></span>"
   ]
  },
  {
   "cell_type": "markdown",
   "metadata": {
    "graffitiCellId": "id_okmu891",
    "graffitiConfig": {
     "rows": 6,
     "terminalId": "id_bct9o4g",
     "type": "terminal"
    }
   },
   "source": [
    "<i>Loading terminal (id_okmu891), please wait...</i>"
   ]
  },
  {
   "cell_type": "markdown",
   "metadata": {
    "graffitiCellId": "id_v4u029z"
   },
   "source": [
    "As you can see from the code, the variable `pointer_to_i` is declared as a pointer to an `int` using the `*` symbol, and `pointer_to_i` is set to the address of `i`. From the printout, it can be seen that `pointer_to_i` holds the same value as the address of `i`."
   ]
  },
  {
   "cell_type": "markdown",
   "metadata": {
    "graffitiCellId": "id_so62cq6"
   },
   "source": [
    "## Getting an Object Back from a Pointer Address\n",
    "\n",
    "Once you have a pointer, you may want to retrieve the object it is pointing to. In this case, the `*` symbol can be used again. This time, however, it will appear on the right hand side of an equation or in front of an already-defined variable, so the meaning is different. In this case, it is called the \"dereferencing operator\", and it returns the object being pointed to. You can see how this works with the code below:"
   ]
  },
  {
   "cell_type": "code",
   "execution_count": null,
   "metadata": {
    "graffitiCellId": "id_eakyuf0",
    "graffitiConfig": {
     "executeCellViaGraffiti": "wemey0a_5aovsp9"
    }
   },
   "outputs": [],
   "source": [
    "#include <iostream>\n",
    "using std::cout;\n",
    "\n",
    "int main() \n",
    "{\n",
    "    int i = 5;\n",
    "    // A pointer pointer_to_i is declared and initialized to the address of i.\n",
    "    int* pointer_to_i = &i;\n",
    "    \n",
    "    // Print the memory addresses of i and j\n",
    "    cout << \"The address of i is:          \" << &i << \"\\n\";\n",
    "    cout << \"The variable pointer_to_i is: \" << pointer_to_i << \"\\n\";\n",
    "    cout << \"The value of the variable pointed to by pointer_to_i is: \" << *pointer_to_i << \"\\n\";\n",
    "}"
   ]
  },
  {
   "cell_type": "markdown",
   "metadata": {
    "graffitiCellId": "id_wemey0a"
   },
   "source": [
    "<span class=\"graffiti-highlight graffiti-id_wemey0a-id_5aovsp9\"><i></i><button>Compile & Execute</button></span> &nbsp; <span class=\"graffiti-highlight graffiti-id_nsgrn9m-id_om3tqer\"><i></i><button>Explain</button></span>"
   ]
  },
  {
   "cell_type": "markdown",
   "metadata": {
    "graffitiCellId": "id_azwdndx",
    "graffitiConfig": {
     "rows": 6,
     "terminalId": "id_azwdndx",
     "type": "terminal"
    }
   },
   "source": [
    "<i>Loading terminal (id_azwdndx), please wait...</i>"
   ]
  },
  {
   "cell_type": "markdown",
   "metadata": {
    "graffitiCellId": "id_4e5xgrg"
   },
   "source": [
    "In the following example, the code is similar to above, except that the object that is being pointed to is changed before the pointer is dereferenced. Before executing the following code, guess what you think will happen to the value of the dereferenced pointer."
   ]
  },
  {
   "cell_type": "code",
   "execution_count": null,
   "metadata": {
    "graffitiCellId": "id_b5yw6n2",
    "graffitiConfig": {
     "executeCellViaGraffiti": "jmbies1_irsnop3"
    }
   },
   "outputs": [],
   "source": [
    "#include <iostream>\n",
    "using std::cout;\n",
    "\n",
    "int main() {\n",
    "    int i = 5;\n",
    "    // A pointer pointer_to_i is declared and initialized to the address of i.\n",
    "    int* pointer_to_i = &i;\n",
    "    \n",
    "    // Print the memory addresses of i and j\n",
    "    cout << \"The address of i is:          \" << &i << \"\\n\";\n",
    "    cout << \"The variable pointer_to_i is: \" << pointer_to_i << \"\\n\";\n",
    "    \n",
    "    // The value of i is changed.\n",
    "    i = 7;\n",
    "    cout << \"The new value of the variable i is                     : \" << i << \"\\n\";\n",
    "    cout << \"The value of the variable pointed to by pointer_to_i is: \" << *pointer_to_i << \"\\n\";\n",
    "}"
   ]
  },
  {
   "cell_type": "markdown",
   "metadata": {
    "graffitiCellId": "id_jmbies1"
   },
   "source": [
    "<span class=\"graffiti-highlight graffiti-id_jmbies1-id_irsnop3\"><i></i><button>Compile & Run</button></span> &nbsp; <span class=\"graffiti-highlight graffiti-id_3ezr9e9-id_dfwjvyv\"><i></i><button>Explain</button></span>"
   ]
  },
  {
   "cell_type": "markdown",
   "metadata": {
    "graffitiCellId": "id_4ooyod1",
    "graffitiConfig": {
     "rows": 6,
     "terminalId": "id_74eyedo",
     "type": "terminal"
    }
   },
   "source": [
    "<i>Loading terminal (id_4ooyod1), please wait...</i>"
   ]
  },
  {
   "cell_type": "markdown",
   "metadata": {
    "graffitiCellId": "id_3wband5"
   },
   "source": [
    "As you can see, an object or variable can be changed while a pointer is pointing to it.\n",
    "\n",
    "## Try it Yourself!\n",
    "\n",
    "Don't forget to experiment with the code in the cells above! Coding a few pointer variables is a great way to get used to the syntax."
   ]
  }
 ],
 "metadata": {
  "graffiti": {
   "firstAuthorId": "813558546",
   "id": "id_lbbhkgw",
   "language": "EN"
  },
  "kernelspec": {
   "display_name": "Python 3 (ipykernel)",
   "language": "python",
   "name": "python3"
  },
  "language_info": {
   "codemirror_mode": {
    "name": "ipython",
    "version": 3
   },
   "file_extension": ".py",
   "mimetype": "text/x-python",
   "name": "python",
   "nbconvert_exporter": "python",
   "pygments_lexer": "ipython3",
   "version": "3.7.3"
  }
 },
 "nbformat": 4,
 "nbformat_minor": 4
}
